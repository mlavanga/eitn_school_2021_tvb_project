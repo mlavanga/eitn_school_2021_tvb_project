{
 "cells": [
  {
   "cell_type": "markdown",
   "metadata": {},
   "source": [
    "# Day 3: Fitting functional connectivity"
   ]
  },
  {
   "cell_type": "markdown",
   "metadata": {},
   "source": [
    "Goals:\n",
    "\n",
    "- Load the BOLD data, calculate the experimental functional connectivity and visualize it.\n",
    "   - What can you see in the structure?\n",
    "- Load the structural connectivity, and calculate the predictive power relative to the experimental functional connectivity.\n",
    "  - Note: The experimental and structural connectivity are on different brain regions which are only partially overlapping. To calculate the predictive power, one has to find the common subset of regions and use only those. Use the function `predictive_power()` defined below.\n",
    "  - Don't forget to remove the diagonal and normalize as before.\n",
    "- Run a single stochastic simulation with $G$ in multistable regime and model parameters as before.\n",
    "  - Use noise with $\\sigma$ = 0.015.\n",
    "  - Use both `Monitors.Bold(period=2000)` and `Monitors.TemporalAverage(period=1)`.\n",
    "  - Run for 60 seconds.\n",
    "  - Look at the results:\n",
    "    - Plot the source states of all regions across the time. Can you see some structure?\n",
    "    - Plot the BOLD signal and compare with the source signal.\n",
    "    - Calculate the functional connectivity and visualize. When calculating the FC, ignore the first 20 seconds.\n",
    "  - Tip: write a function `def simulate(conn, G, simlength, dt, Io, w, sigma)` that will setup and run a stochastic simulation with specified parameters and return the simulation results; it will help you structure your code.\n",
    "- And finally, find the best fit! \n",
    "  - Run the stochastic simulations for $G$ in the identified range.\n",
    "  - For each $G$ calculate the predictive power of simulated FC relative to empirical FC.\n",
    "  - Plot the relation of $G$ and predictive power. What's the best value?\n",
    "  - Redo the previous step for the best fit."
   ]
  },
  {
   "cell_type": "code",
   "execution_count": 1,
   "metadata": {
    "scrolled": true
   },
   "outputs": [
    {
     "name": "stdout",
     "output_type": "stream",
     "text": [
      "2021-09-03 15:52:18,459 - WARNING - tvb.simulator.common - psutil module not available: no warnings will be issued when a\n",
      "    simulation may require more memory than available\n",
      "   INFO  log level set to INFO\n"
     ]
    },
    {
     "name": "stderr",
     "output_type": "stream",
     "text": [
      "/Users/mariolavanga/Documents/GitHub/eitn_school_2021_tvb_project/env/lib/python3.7/site-packages/tvb/datatypes/surfaces.py:61: UserWarning: Geodesic distance module is unavailable; some functionality for surfaces will be unavailable.\n",
      "  warnings.warn(msg)\n"
     ]
    }
   ],
   "source": [
    "import numpy as np\n",
    "import matplotlib.pyplot as plt\n",
    "import time\n",
    "\n",
    "from tvb.simulator.lab import *\n",
    "\n",
    "%matplotlib inline"
   ]
  },
  {
   "cell_type": "markdown",
   "metadata": {},
   "source": [
    "In the last part we will fit the network model to the empirical connectivity. That is, we will find an optimal $G$ that produces the simulation output most similar to what was recorded in live mouse. To this end, we will simulate the network model again, this time with noise."
   ]
  },
  {
   "cell_type": "markdown",
   "metadata": {},
   "source": [
    "## Experimental functional connectivity"
   ]
  },
  {
   "cell_type": "markdown",
   "metadata": {},
   "source": [
    "Let us load the data and calculate and visualize the functional connectivity. We quantify the functional connectivity between two region as a correlation coefficient of their time series."
   ]
  },
  {
   "cell_type": "code",
   "execution_count": 2,
   "metadata": {},
   "outputs": [],
   "source": [
    "datadir = os.path.abspath(\"./dataset\")\n",
    "subj = \"m143\"\n",
    "fmri = np.load(f\"{datadir}/fmri/{subj}/session0.npz\")\n",
    "fc_emp = np.corrcoef(fmri['bold'])\n",
    "reg_emp = fmri['region_labels']"
   ]
  },
  {
   "cell_type": "code",
   "execution_count": 3,
   "metadata": {},
   "outputs": [
    {
     "data": {
      "text/plain": [
       "Text(0, 0.5, 'Regions')"
      ]
     },
     "execution_count": 3,
     "metadata": {},
     "output_type": "execute_result"
    },
    {
     "data": {
      "image/png": "[encoded data removed]",
      "text/plain": [
       "<Figure size 360x360 with 2 Axes>"
      ]
     },
     "metadata": {
      "needs_background": "light"
     },
     "output_type": "display_data"
    }
   ],
   "source": [
    "plt.figure(figsize=(5,5))\n",
    "plt.imshow(fc_emp, vmin=0, vmax=1)\n",
    "plt.title(\"Empirical FC\")\n",
    "plt.colorbar()\n",
    "plt.xlabel(\"Regions\")\n",
    "plt.ylabel(\"Regions\")"
   ]
  },
  {
   "cell_type": "markdown",
   "metadata": {
    "tags": []
   },
   "source": [
    "## Structural connectivity"
   ]
  },
  {
   "cell_type": "raw",
   "metadata": {
    "jupyter": {
     "outputs_hidden": false
    }
   },
   "source": [
    "conn = connectivity.Connectivity.from_file(f\"{datadir}/conn/allen84.zip\")\n",
    "\n",
    "np.fill_diagonal(conn.weights, 0.)\n",
    "conn.weights /= np.max(conn.weights)\n",
    "nreg = conn.weights.shape[0]"
   ]
  },
  {
   "cell_type": "code",
   "execution_count": 4,
   "metadata": {},
   "outputs": [],
   "source": [
    "def load_conn(name):\n",
    "    conn = connectivity.Connectivity.from_file(f\"{datadir}/conn/{name}.zip\")\n",
    "    np.fill_diagonal(conn.weights, 0.)\n",
    "    conn.weights /= np.max(conn.weights)\n",
    "    nreg = conn.weights.shape[0]\n",
    "    return conn"
   ]
  },
  {
   "cell_type": "code",
   "execution_count": 5,
   "metadata": {},
   "outputs": [
    {
     "name": "stdout",
     "output_type": "stream",
     "text": [
      "WARNING  File 'average_orientations' not found in ZIP.\n",
      "WARNING  File 'cortical' not found in ZIP.\n",
      "WARNING  File 'hemispheres' not found in ZIP.\n",
      "WARNING  File 'areas' not found in ZIP.\n"
     ]
    }
   ],
   "source": [
    "separator   = ''\n",
    "str_subj_sc = separator.join([subj,\"_det\"])\n",
    "conn        = load_conn(str_subj_sc)\n",
    "np.fill_diagonal(conn.weights, 0.)\n",
    "conn.weights /= np.max(conn.weights)\n",
    "nreg = conn.weights.shape[0]"
   ]
  },
  {
   "cell_type": "markdown",
   "metadata": {},
   "source": [
    "## Stochastic simulation"
   ]
  },
  {
   "cell_type": "markdown",
   "metadata": {},
   "source": [
    "Let us run one simulation of the whole-brain network with noise. We also add the BOLD monitor, so that we have simulated time series that can be compared to the empirical fMRI."
   ]
  },
  {
   "cell_type": "code",
   "execution_count": 6,
   "metadata": {},
   "outputs": [],
   "source": [
    "def simulate(conn, G, simlength, dt, Io, w, sigma):\n",
    "    ...\n",
    "    return [(t1, tavg), (t2, bold)]"
   ]
  },
  {
   "cell_type": "code",
   "execution_count": 7,
   "metadata": {},
   "outputs": [
    {
     "name": "stdout",
     "output_type": "stream",
     "text": [
      "CPU TIME = 4141.17589\n"
     ]
    }
   ],
   "source": [
    "T = 120000\n",
    "t0 = time.time()\n",
    "(t1, tavg), (t2, bold) = simulate(conn, ..., T, ...)\n",
    "CPU_TIME = time.time() - t0\n",
    "print(f\"CPU TIME = {CPU_TIME:.5f}\")\n"
   ]
  },
  {
   "cell_type": "markdown",
   "metadata": {},
   "source": [
    "Plot the results for all of the regions:"
   ]
  },
  {
   "cell_type": "markdown",
   "metadata": {},
   "source": [
    "And the timeseries for one region only:"
   ]
  },
  {
   "cell_type": "markdown",
   "metadata": {},
   "source": [
    "Now we can calculate the simulated functional connectivity. To avoid the interval affected by the initial conditions, we use only the time series starting at 20 seconds after the simulation start."
   ]
  },
  {
   "cell_type": "markdown",
   "metadata": {},
   "source": [
    "The comparison between the simulated and empirical FC is bit difficult: due to the technical constraint of the imaging methods, the structural and functional connectome are defined on different brain regions, which are only partially overlapping. We can plot the simulated and empirical FC on these overlapping regions only."
   ]
  },
  {
   "cell_type": "code",
   "execution_count": 6,
   "metadata": {},
   "outputs": [],
   "source": [
    "def common_regions(regions1, regions2):\n",
    "    common_regs = [reg for reg in regions1 if reg in regions2]\n",
    "    ncommon = len(common_regs)\n",
    "    inds1 = [list(regions1).index(reg) for reg in common_regs]\n",
    "    inds2 = [list(regions2).index(reg) for reg in common_regs]\n",
    "    \n",
    "    return inds1, inds2\n",
    "\n",
    "inds_sc, inds_fc = common_regions(conn.region_labels, reg_emp)\n",
    "\n",
    "# ncommon = len(inds_sc)\n",
    "# offdiag_mask = ~np.eye(ncommon, dtype=bool)\n",
    "# fc_sim_r  = fc_sim[inds_sc, :][:, inds_sc]\n",
    "# fc_emp_r  = fc_emp[inds_fc, :][:, inds_fc]"
   ]
  },
  {
   "cell_type": "markdown",
   "metadata": {},
   "source": [
    "And let us calculate the predictive power, or the correlation coefficient of the simulated FC with the empirical FC."
   ]
  },
  {
   "cell_type": "code",
   "execution_count": 8,
   "metadata": {},
   "outputs": [],
   "source": [
    "def predictive_power(conn1, conn2, regions1=None, regions2=None):\n",
    "    \"\"\"Calculates the predictive power of the connectome `conn1` to `conn2`. \n",
    "    \n",
    "    If they are defined on different regions, list of region names in both\n",
    "    connectomes (`regions1` and `regions2`) must be provided.\n",
    "    \"\"\"\n",
    "    \n",
    "    if regions1 is None and regions2 is None:\n",
    "        assert conn1.shape == conn2.shape\n",
    "        ncommon = conn1.shape[0]\n",
    "        inds1 = inds2 = np.r_[:ncommon]\n",
    "    else:\n",
    "        inds1, inds2 = common_regions(regions1, regions2)\n",
    "        ncommon = len(inds1)\n",
    "    \n",
    "    conn1 = conn1[inds1, :][:, inds1]\n",
    "    conn2 = conn2[inds2, :][:, inds2]\n",
    "    \n",
    "    offdiag_mask = ~np.eye(ncommon, dtype=bool)\n",
    "    \n",
    "    pp = np.corrcoef(conn1[offdiag_mask],\n",
    "                     conn2[offdiag_mask])[1, 0]\n",
    "    \n",
    "    return pp"
   ]
  },
  {
   "cell_type": "markdown",
   "metadata": {},
   "source": [
    "## Finding the best fit"
   ]
  }
 ],
 "metadata": {
  "kernelspec": {
   "display_name": "Python 3 (ipykernel)",
   "language": "python",
   "name": "python3"
  },
  "language_info": {
   "codemirror_mode": {
    "name": "ipython",
    "version": 3
   },
   "file_extension": ".py",
   "mimetype": "text/x-python",
   "name": "python",
   "nbconvert_exporter": "python",
   "pygments_lexer": "ipython3",
   "version": "3.7.10"
  }
 },
 "nbformat": 4,
 "nbformat_minor": 4
}
